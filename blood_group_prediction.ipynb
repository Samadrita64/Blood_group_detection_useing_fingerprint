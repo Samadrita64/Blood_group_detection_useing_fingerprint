{
 "cells": [
  {
   "cell_type": "code",
   "execution_count": 1,
   "id": "23936331-95a9-4588-b90c-0961b446c095",
   "metadata": {},
   "outputs": [],
   "source": [
    "import os\n",
    "import numpy as np\n",
    "import matplotlib.pyplot as plt"
   ]
  },
  {
   "cell_type": "code",
   "execution_count": 2,
   "id": "f2c95c1e-620f-4f14-9f1e-7fcb91d43068",
   "metadata": {},
   "outputs": [],
   "source": [
    "from sklearn.model_selection import train_test_split"
   ]
  },
  {
   "cell_type": "code",
   "execution_count": 3,
   "id": "98518739-0a5f-49fc-ae55-3700ddc69ee6",
   "metadata": {},
   "outputs": [],
   "source": [
    "from sklearn.preprocessing import LabelEncoder"
   ]
  },
  {
   "cell_type": "code",
   "execution_count": 4,
   "id": "52004b85-8291-4306-be97-266d17ede632",
   "metadata": {},
   "outputs": [],
   "source": [
    "from sklearn.metrics import classification_report, confusion_matrix"
   ]
  },
  {
   "cell_type": "code",
   "execution_count": 5,
   "id": "c0ff621c-dab0-4e7c-be6b-a004f2d8790a",
   "metadata": {},
   "outputs": [],
   "source": [
    "import tensorflow as tf"
   ]
  },
  {
   "cell_type": "code",
   "execution_count": 6,
   "id": "48044616-a990-4ece-9699-dc3a8046fdce",
   "metadata": {},
   "outputs": [],
   "source": [
    "from tensorflow.keras.preprocessing.image import load_img, img_to_array\n",
    "from tensorflow.keras.utils import to_categorical"
   ]
  },
  {
   "cell_type": "code",
   "execution_count": 7,
   "id": "17d766d3-e6eb-46ec-a5a1-6e91a8ad85ef",
   "metadata": {},
   "outputs": [],
   "source": [
    "# Step 1: Load and preprocess images\n",
    "data_dir = 'dataset_blood_group'\n",
    "img_size = (128, 128)\n"
   ]
  },
  {
   "cell_type": "code",
   "execution_count": 8,
   "id": "ffdfd809-6ea8-4f10-8b35-687239f146f8",
   "metadata": {},
   "outputs": [],
   "source": [
    "X = []\n",
    "y = []"
   ]
  },
  {
   "cell_type": "code",
   "execution_count": 9,
   "id": "2ac43c7c-21b5-4fdd-a266-a75e0dc86918",
   "metadata": {},
   "outputs": [],
   "source": [
    "for label in os.listdir(data_dir):\n",
    "    folder_path = os.path.join(data_dir, label)\n",
    "    if not os.path.isdir(folder_path):\n",
    "        continue\n",
    "\n",
    "    for img_file in os.listdir(folder_path):\n",
    "        img_path = os.path.join(folder_path, img_file)\n",
    "        try:\n",
    "            img = load_img(img_path, target_size=img_size, color_mode='grayscale')\n",
    "            img_array = img_to_array(img) / 255.0\n",
    "            X.append(img_array)\n",
    "            y.append(label)\n",
    "        except Exception as e:\n",
    "            print(f\"Error loading {img_path}: {e}\")"
   ]
  },
  {
   "cell_type": "code",
   "execution_count": 10,
   "id": "4ce64cf1-f237-4498-8ef6-c950da990240",
   "metadata": {},
   "outputs": [],
   "source": [
    "X = np.array(X)"
   ]
  },
  {
   "cell_type": "code",
   "execution_count": 11,
   "id": "6640487b-63e7-4b68-8cbb-1731ec810f81",
   "metadata": {},
   "outputs": [],
   "source": [
    "y = np.array(y)"
   ]
  },
  {
   "cell_type": "code",
   "execution_count": 12,
   "id": "43cb18bb-649b-470b-9be5-d29e19e59f61",
   "metadata": {},
   "outputs": [],
   "source": [
    "# Step 2: Encode labels\n",
    "le = LabelEncoder()\n",
    "y_encoded = le.fit_transform(y)\n",
    "y_cat = to_categorical(y_encoded)"
   ]
  },
  {
   "cell_type": "code",
   "execution_count": 13,
   "id": "eee47b0f-eb16-4ef8-b4df-327785c05f20",
   "metadata": {},
   "outputs": [],
   "source": [
    "# Step 3: Train/Test Split\n",
    "X_train, X_test, y_train, y_test = train_test_split(X, y_cat, test_size=0.2, random_state=42)"
   ]
  },
  {
   "cell_type": "code",
   "execution_count": 14,
   "id": "85df8e1e-8d4c-44f2-bc5d-98034756de42",
   "metadata": {},
   "outputs": [],
   "source": [
    "# Step 4: Build CNN model\n",
    "from tensorflow.keras import layers, models, Input\n",
    "\n",
    "model = models.Sequential([\n",
    "    Input(shape=(128, 128, 1)),  # Define input shape explicitly\n",
    "    layers.Conv2D(32, (3,3), activation='relu'),\n",
    "    layers.MaxPooling2D(2,2),\n",
    "    layers.Conv2D(64, (3,3), activation='relu'),\n",
    "    layers.MaxPooling2D(2,2),\n",
    "    layers.Flatten(),\n",
    "    layers.Dense(128, activation='relu'),\n",
    "    layers.Dense(8, activation='softmax')  # 8 classes for blood groups\n",
    "])\n"
   ]
  },
  {
   "cell_type": "code",
   "execution_count": 15,
   "id": "67d43bf2-f080-42e9-ade3-64c6a0c94ebf",
   "metadata": {},
   "outputs": [],
   "source": [
    "model.compile(optimizer='adam', loss='categorical_crossentropy', metrics=['accuracy'])"
   ]
  },
  {
   "cell_type": "code",
   "execution_count": 16,
   "id": "5967eb38-193b-47aa-bb12-c46d789eb35a",
   "metadata": {},
   "outputs": [
    {
     "name": "stdout",
     "output_type": "stream",
     "text": [
      "Epoch 1/10\n",
      "\u001b[1m147/147\u001b[0m \u001b[32m━━━━━━━━━━━━━━━━━━━━\u001b[0m\u001b[37m\u001b[0m \u001b[1m35s\u001b[0m 222ms/step - accuracy: 0.3090 - loss: 2.0198 - val_accuracy: 0.7707 - val_loss: 0.6192\n",
      "Epoch 2/10\n",
      "\u001b[1m147/147\u001b[0m \u001b[32m━━━━━━━━━━━━━━━━━━━━\u001b[0m\u001b[37m\u001b[0m \u001b[1m32s\u001b[0m 217ms/step - accuracy: 0.8157 - loss: 0.5205 - val_accuracy: 0.8517 - val_loss: 0.3842\n",
      "Epoch 3/10\n",
      "\u001b[1m147/147\u001b[0m \u001b[32m━━━━━━━━━━━━━━━━━━━━\u001b[0m\u001b[37m\u001b[0m \u001b[1m33s\u001b[0m 221ms/step - accuracy: 0.8570 - loss: 0.3722 - val_accuracy: 0.8636 - val_loss: 0.3481\n",
      "Epoch 4/10\n",
      "\u001b[1m147/147\u001b[0m \u001b[32m━━━━━━━━━━━━━━━━━━━━\u001b[0m\u001b[37m\u001b[0m \u001b[1m32s\u001b[0m 220ms/step - accuracy: 0.8949 - loss: 0.2790 - val_accuracy: 0.8738 - val_loss: 0.2873\n",
      "Epoch 5/10\n",
      "\u001b[1m147/147\u001b[0m \u001b[32m━━━━━━━━━━━━━━━━━━━━\u001b[0m\u001b[37m\u001b[0m \u001b[1m32s\u001b[0m 217ms/step - accuracy: 0.9129 - loss: 0.2270 - val_accuracy: 0.8372 - val_loss: 0.4200\n",
      "Epoch 6/10\n",
      "\u001b[1m147/147\u001b[0m \u001b[32m━━━━━━━━━━━━━━━━━━━━\u001b[0m\u001b[37m\u001b[0m \u001b[1m32s\u001b[0m 218ms/step - accuracy: 0.9244 - loss: 0.1990 - val_accuracy: 0.8585 - val_loss: 0.3535\n",
      "Epoch 7/10\n",
      "\u001b[1m147/147\u001b[0m \u001b[32m━━━━━━━━━━━━━━━━━━━━\u001b[0m\u001b[37m\u001b[0m \u001b[1m33s\u001b[0m 224ms/step - accuracy: 0.9580 - loss: 0.1203 - val_accuracy: 0.8875 - val_loss: 0.2659\n",
      "Epoch 8/10\n",
      "\u001b[1m147/147\u001b[0m \u001b[32m━━━━━━━━━━━━━━━━━━━━\u001b[0m\u001b[37m\u001b[0m \u001b[1m32s\u001b[0m 219ms/step - accuracy: 0.9820 - loss: 0.0659 - val_accuracy: 0.8789 - val_loss: 0.2833\n",
      "Epoch 9/10\n",
      "\u001b[1m147/147\u001b[0m \u001b[32m━━━━━━━━━━━━━━━━━━━━\u001b[0m\u001b[37m\u001b[0m \u001b[1m32s\u001b[0m 217ms/step - accuracy: 0.9930 - loss: 0.0400 - val_accuracy: 0.8798 - val_loss: 0.3098\n",
      "Epoch 10/10\n",
      "\u001b[1m147/147\u001b[0m \u001b[32m━━━━━━━━━━━━━━━━━━━━\u001b[0m\u001b[37m\u001b[0m \u001b[1m210s\u001b[0m 1s/step - accuracy: 0.9956 - loss: 0.0235 - val_accuracy: 0.8951 - val_loss: 0.2845\n"
     ]
    }
   ],
   "source": [
    "# Step 5: Train model\n",
    "history = model.fit(X_train, y_train, epochs=10, validation_data=(X_test, y_test))"
   ]
  },
  {
   "cell_type": "code",
   "execution_count": 17,
   "id": "291be38c-9834-458d-bace-a80f30829e8f",
   "metadata": {},
   "outputs": [
    {
     "name": "stdout",
     "output_type": "stream",
     "text": [
      "\u001b[1m37/37\u001b[0m \u001b[32m━━━━━━━━━━━━━━━━━━━━\u001b[0m\u001b[37m\u001b[0m \u001b[1m3s\u001b[0m 66ms/step\n"
     ]
    }
   ],
   "source": [
    "# Step 6: Evaluate\n",
    "y_pred = model.predict(X_test)"
   ]
  },
  {
   "cell_type": "code",
   "execution_count": 18,
   "id": "873ba96e-a648-4ee9-ac7f-a3b8f05f6033",
   "metadata": {},
   "outputs": [],
   "source": [
    "y_pred_classes = np.argmax(y_pred, axis=1)"
   ]
  },
  {
   "cell_type": "code",
   "execution_count": 19,
   "id": "e1f5648b-65ed-4c0f-a1e7-fe16010c5cf8",
   "metadata": {},
   "outputs": [],
   "source": [
    "y_true = np.argmax(y_test, axis=1)"
   ]
  },
  {
   "cell_type": "code",
   "execution_count": 20,
   "id": "39175e09-ef95-45b9-81b5-d47102b6420c",
   "metadata": {},
   "outputs": [
    {
     "name": "stdout",
     "output_type": "stream",
     "text": [
      "Classification Report:\n",
      "              precision    recall  f1-score   support\n",
      "\n",
      "          A+       0.99      0.89      0.94       129\n",
      "          A-       0.93      0.89      0.91       176\n",
      "         AB+       0.83      0.95      0.88       132\n",
      "         AB-       0.90      0.87      0.89       158\n",
      "          B+       0.89      0.96      0.92       121\n",
      "          B-       0.90      0.94      0.92       156\n",
      "          O+       0.92      0.78      0.85       162\n",
      "          O-       0.82      0.91      0.86       139\n",
      "\n",
      "    accuracy                           0.90      1173\n",
      "   macro avg       0.90      0.90      0.90      1173\n",
      "weighted avg       0.90      0.90      0.90      1173\n",
      "\n"
     ]
    }
   ],
   "source": [
    "print(\"Classification Report:\")\n",
    "print(classification_report(y_true, y_pred_classes, target_names=le.classes_))"
   ]
  },
  {
   "cell_type": "code",
   "execution_count": 21,
   "id": "656c82d0-b90b-4e78-9f17-28227df32518",
   "metadata": {},
   "outputs": [
    {
     "name": "stdout",
     "output_type": "stream",
     "text": [
      "Model saved as 'blood_group_model.keras'\n"
     ]
    }
   ],
   "source": [
    "model.save(\"blood_group_model.keras\")\n",
    "print(\"Model saved as 'blood_group_model.keras'\")\n"
   ]
  },
  {
   "cell_type": "code",
   "execution_count": 22,
   "id": "090da186-ff9a-4d3c-9a61-4cfca0cb3681",
   "metadata": {},
   "outputs": [
    {
     "name": "stdout",
     "output_type": "stream",
     "text": [
      "C:\\Users\\User\\Desktop\\blood group detect useing fingerprint\n"
     ]
    }
   ],
   "source": [
    "import os\n",
    "print(os.getcwd())\n"
   ]
  },
  {
   "cell_type": "code",
   "execution_count": 23,
   "id": "1a0c8079-cbb6-4f17-9e07-1874a901472b",
   "metadata": {},
   "outputs": [
    {
     "name": "stdout",
     "output_type": "stream",
     "text": [
      "\u001b[1m1/1\u001b[0m \u001b[32m━━━━━━━━━━━━━━━━━━━━\u001b[0m\u001b[37m\u001b[0m \u001b[1m0s\u001b[0m 189ms/step\n",
      "Predicted Blood Group: AB+\n"
     ]
    }
   ],
   "source": [
    "from tensorflow.keras.models import load_model\n",
    "from tensorflow.keras.preprocessing.image import load_img, img_to_array\n",
    "import numpy as np\n",
    "\n",
    "# Load the trained model\n",
    "model = load_model(\"blood_group_model.keras\")\n",
    "\n",
    "# Set the full path to your fingerprint image\n",
    "img_path = r\"C:\\Users\\User\\Desktop\\blood group detect useing fingerprint\\dataset_blood_group\\AB+\\cluster_4_4.BMP\"  \n",
    "\n",
    "# Load and preprocess the image\n",
    "img = load_img(img_path, target_size=(128, 128), color_mode='grayscale')\n",
    "img_array = img_to_array(img) / 255.0\n",
    "img_array = np.expand_dims(img_array, axis=0)  # Add batch dimension\n",
    "\n",
    "# Make prediction\n",
    "prediction = model.predict(img_array)\n",
    "predicted_index = np.argmax(prediction)\n",
    "\n",
    "# Optional: Convert class index to blood group label\n",
    "blood_groups = ['A+', 'A−', 'AB+', 'AB−', 'B+', 'B−', 'O+', 'O−'] \n",
    "predicted_label = blood_groups[predicted_index]\n",
    "\n",
    "print(f\"Predicted Blood Group: {predicted_label}\")\n"
   ]
  },
  {
   "cell_type": "code",
   "execution_count": null,
   "id": "56936f72-a33e-42b1-8753-ee16cd181bb7",
   "metadata": {},
   "outputs": [],
   "source": []
  }
 ],
 "metadata": {
  "kernelspec": {
   "display_name": "Python [conda env:base] *",
   "language": "python",
   "name": "conda-base-py"
  },
  "language_info": {
   "codemirror_mode": {
    "name": "ipython",
    "version": 3
   },
   "file_extension": ".py",
   "mimetype": "text/x-python",
   "name": "python",
   "nbconvert_exporter": "python",
   "pygments_lexer": "ipython3",
   "version": "3.12.7"
  }
 },
 "nbformat": 4,
 "nbformat_minor": 5
}
